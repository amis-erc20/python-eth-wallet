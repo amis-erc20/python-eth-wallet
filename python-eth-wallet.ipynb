{
 "cells": [
  {
   "cell_type": "markdown",
   "metadata": {},
   "source": [
    "# ⚙️ python-eth-wallet Setup\n",
    "\n",
    "\n",
    "##  Requirements\n",
    "You must use a laptop with a Mac, Linux,\n",
    "or Windows operating system (not a tablet, Chromebook,\n",
    " etc.). Make sure you have admin privileges on the laptop so you can install the packages needed.\n",
    " \n",
    "\n",
    "## What  do I need to have installed? \n",
    "To participate in the development of python-eth-wallet, you will need access to the following tools and software:\n",
    "\n",
    "- Bash shell\n",
    "- Git\n",
    "- Text editor\n",
    "- Python 3.x\n",
    "- pip\n",
    "- Jupyter notebook\n",
    "- python-eth-wallet\n",
    "- pytest\n",
    "- cookiecutter\n",
    "- nbval\n",
    "- nbdime\n",
    "- pandas\n",
    "- matplotlib\n",
    "- Jupyterlab (recommended)\n",
    "- Docker\n",
    "- hypothesis\n",
    "- pipenv\n",
    "\n",
    "Please follow the instructions below to get these software installed.\n",
    "\n",
    "### The Bash shell\n",
    "\n",
    "📌 **Windows**\n",
    "\n",
    "<a href=\"https://www.youtube.com/watch?v=339AEqk9c-8\">Video Tutorial</a>\n",
    "      <ol>\n",
    "        <li>Download the Git for Windows <a href=\"https://git-for-windows.github.io/\">installer</a>.</li>\n",
    "        <li>Run the installer and follow the steps bellow:\n",
    "          <ol>\n",
    "            <!-- Git 2.8.2 Setup -->\n",
    "            <!-- Information -->\n",
    "            <li>Click on \"Next\".</li>\n",
    "            <!-- Select Components -->\n",
    "            <li>Click on \"Next\".</li>\n",
    "            <!-- Adjusting your PATH environment -->\n",
    "            <li>\n",
    "              <strong>\n",
    "                Keep \"Use Git from the Windows Command Prompt\" selected and click on \"Next\".\n",
    "              </strong>\n",
    "                If you forgot to do this programs that you need for the workshop will not work properly.\n",
    "                If this happens rerun the installer and select the appropriate option.\n",
    "            </li>\n",
    "            <!-- Choosing the SSH executable -->\n",
    "            <li>Click on \"Next\".</li>\n",
    "            <!-- Configuring the line ending conversions -->\n",
    "            <li>\n",
    "              <strong>\n",
    "                Keep \"Checkout Windows-style, commit Unix-style line endings\" selected and click on \"Next\".\n",
    "              </strong>\n",
    "            </li>\n",
    "            <!-- Configuring the terminal emulator to use with Git Bash -->\n",
    "            <li>\n",
    "              <strong>\n",
    "                Keep \"Use Windows' default console window\" selected and click on \"Next\".\n",
    "              </strong>\n",
    "            </li>\n",
    "            <!-- Configuring experimental performance tweaks -->\n",
    "            <li>Click on \"Install\".</li>\n",
    "            <!-- Installing -->\n",
    "            <!-- Completing the Git Setup Wizard -->\n",
    "            <li>Click on \"Finish\".</li>\n",
    "          </ol>\n",
    "        <li>\n",
    "          If your \"HOME\" environment variable is not set (or you don't know what this is):\n",
    "          <ol>\n",
    "            <li>Open command prompt (Open Start Menu then type <code>cmd</code> and press [Enter])</li>\n",
    "            <li>\n",
    "              Type the following line into the command prompt window exactly as shown:\n",
    "              <p><code>setx HOME \"%USERPROFILE%\"</code></p>\n",
    "            </li>\n",
    "            <li>Press [Enter], you should see <code>SUCCESS: Specified value was saved.</code></li>\n",
    "              <li>Quit command prompt by typing <code>exit</code> then pressing [Enter]</li>\n",
    "     \n",
    "This will provide you with both Git and Bash in the Git Bash program.\n",
    "\n",
    "\n",
    "📌 **MAC OS X**\n",
    "\n",
    "The default shell in all versions of Mac OS X is Bash, so no\n",
    "       need to install anything.  You access Bash from the Terminal\n",
    "       (found in\n",
    "       <code>/Applications/Utilities</code>).\n",
    "       See the Git installation <a href=\"https://www.youtube.com/watch?v=9LQhwETCdwY \">video tutorial</a>\n",
    "       for an example on how to open the Terminal.\n",
    "       You may want to keep\n",
    "       Terminal in your dock for this workshop.\n",
    "\n",
    "📌 **Linux**  \n",
    "     \n",
    "The default shell is usually Bash, but if your\n",
    "        machine is set up differently you can run it by opening a\n",
    "        terminal and typing <code>bash</code>.  There is no need to\n",
    "        install anything."
   ]
  },
  {
   "cell_type": "markdown",
   "metadata": {},
   "source": [
    "### Git \n",
    "\n",
    "  Git is a version control system that lets you track who made changes\n",
    "    to what when and has options for easily updating a shared or public\n",
    "    version of your code\n",
    "    on <a href=\"https://github.com/\">github.com</a>. You will need a\n",
    "    <a href=\"https://help.github.com/articles/supported-browsers/\">supported</a>\n",
    "    web browser (current versions of Chrome, Firefox or Safari,\n",
    "    or Internet Explorer version 9 or above).\n",
    "    \n",
    "  You will need an account at <a href=\"https://github.com/\">github.com</a>\n",
    "    for parts of the Git lesson. Basic GitHub accounts are free. We encourage\n",
    "    you to create a GitHub account if you don't have one already.\n",
    "    Please consider what personal information you'd like to reveal. For\n",
    "    example, you may want to review these\n",
    "    <a href=\"https://help.github.com/articles/keeping-your-email-address-private/\">instructions\n",
    "    for keeping your email address private</a> provided at GitHub.\n",
    "    \n",
    "📌 **Windows**\n",
    "\n",
    " Git should be installed on your computer as part of your Bash\n",
    "        install (described above).\n",
    "        \n",
    "📌 **MAC OS X**\n",
    "\n",
    "<strong>For OS X 10.9 and higher</strong>, install Git for Mac\n",
    "by downloading and running the most recent \"mavericks\" installer from\n",
    "<a href=\"http://sourceforge.net/projects/git-osx-installer/files/\">this list</a>.\n",
    "After installing Git, there will not be anything in your <code>/Applications</code> folder,\n",
    "as Git is a command line program.\n",
    "\n",
    "\n",
    "<strong>For older versions of OS X (10.5-10.8)</strong> use the\n",
    "most recent available installer labelled \"snow-leopard\"\n",
    "<a href=\"http://sourceforge.net/projects/git-osx-installer/files/\">available here</a>.\n",
    "        \n",
    "📌 **Linux** \n",
    "\n",
    " If Git is not already available on your machine you can try to\n",
    "        install it via your distro's package manager. For Debian/Ubuntu run\n",
    "        <code>sudo apt-get install git</code> and for Fedora run\n",
    "        <code>sudo yum install git</code>."
   ]
  },
  {
   "cell_type": "markdown",
   "metadata": {},
   "source": [
    "### 🐍 Python\n",
    "\n",
    "Of course we could not let our main player out!!! **To make it easier to deal with packages and files during the course we will use <a href=\"https://www.continuum.io/anaconda\">Anaconda</a>**. Also this will come in handy during the installation.\n",
    "    \n",
    "      \n",
    "📌 **Windows**\n",
    "\n",
    "<a href=\"https://www.youtube.com/watch?v=xxQ0mzZ8UvA\">Video Tutorial</a>\n",
    "      <ol>\n",
    "        <li>Open <a href=\"http://continuum.io/downloads\">http://continuum.io/downloads</a> with your web browser.</li>\n",
    "        <li>Download the Python 3 installer for Windows.</li>\n",
    "        <li>Install Python 3 using all of the defaults for installation <em>except</em> make sure to check <strong>Make Anaconda the default Python</strong>.</li>\n",
    "      </ol>\n",
    "      \n",
    "📌 **MAC OS X**\n",
    "  \n",
    " <a href=\"https://www.youtube.com/watch?v=TcSAln46u9U\">Video Tutorial</a>\n",
    "      <ol>\n",
    "        <li>Open <a href=\"http://continuum.io/downloads\">http://continuum.io/downloads</a> with your web browser.</li>\n",
    "        <li>Download the Python 3 installer for OS X.</li>\n",
    "        <li>Install Python 3 using all of the defaults for installation.</li>\n",
    "      </ol>\n",
    "    \n",
    "📌 **Linux**  \n",
    "\n",
    "<ol>\n",
    "        <li>Open <a href=\"http://continuum.io/downloads\">http://continuum.io/downloads</a> with your web browser.</li>\n",
    "        <li>Download the Python 3 installer for Linux.<br>\n",
    "          (Installation requires using the shell. If you aren't\n",
    "           comfortable doing the installation yourself\n",
    "           stop here and request help at the workshop.)\n",
    "        </li>\n",
    "        <li>\n",
    "          Open a terminal window.\n",
    "        </li>\n",
    "        <li>\n",
    "          Type <code>bash Anaconda3-</code> and then press\n",
    "          tab. The name of the file you just downloaded should\n",
    "          appear. If it does not, navigate to the folder where you\n",
    "          downloaded the file, for example with:\n",
    "          <code>cd Downloads</code>\n",
    "          Then, try again.\n",
    "        </li>\n",
    "        <li>\n",
    "          Press enter. You will follow the text-only prompts. To move through\n",
    "          the text, press the space key. Type <code>yes</code> and\n",
    "          press enter to approve the license. Press enter to approve the\n",
    "          default location for the files. Type <code>yes</code> and\n",
    "          press enter to prepend Anaconda to your <code>PATH</code>\n",
    "          (this makes the Anaconda distribution the default Python).\n",
    "        </li>\n",
    "        <li>\n",
    "          Close the terminal window.\n",
    "      </ol>\n"
   ]
  },
  {
   "cell_type": "markdown",
   "metadata": {},
   "source": [
    "### Installing additional packages\n",
    "\n",
    "1. Download [environment.yml](https://raw.githubusercontent.com/trallard/ReproduciblePython/master/environment.yml) to your local computer by right-clicking on the following link: [environment.yml](https://raw.githubusercontent.com/trallard/ReproduciblePython/master/environment.yml)\n",
    "2. Make sure you know where you saved the file\n",
    "3. Open your shell and navigate to the location of the file, for example if you saved it in Desktop you would type in `cd Desktop`\n",
    "4. Type in the following command to create an environment fro the file:\n",
    "<pre><code>\n",
    "conda env create -f environment.yml\n",
    "</code></pre>\n",
    "\n",
    "\n",
    "You should see the packages being installed. Note it could take a while so you can go and grab yourself a cup of coffee or tea ☕\n",
    "\n",
    "---\n",
    "Try it on [MyBinder](https://mybinder.org/v2/gh/amis-erc20/python-eth-wallet/master) 1st.\n",
    "⭐ If you have never used Jupyter notebooks you could have a look at this [Tutorial](https://www.dataquest.io/blog/jupyter-notebook-tutorial/) to familiarize yourself with the environment \n"
   ]
  },
  {
   "cell_type": "markdown",
   "metadata": {},
   "source": [
    "## Getting your accounts ready\n",
    "\n",
    "### GitHub\n",
    "\n",
    "<br>\n",
    "<div class='warn'> Note you do not need to do the following if you already have a GitHub account. You only need to make sure you know your username and password </div>\n",
    "\n",
    "Go to the [GitHub homepage](https://github.com/) to register for a new account, you should see the following page\n",
    "\n",
    "<img src='https://github.com/trallard/ReproduciblePython/blob/master/assets/GH.png?raw=true' width=80%>\n",
    "\n",
    "\n",
    "- Choose a username, email address and password.\n",
    "- Click the green *Sign up* button\n",
    "- Confirm your email address\n",
    "- Choose the personal default plan\n",
    "\n",
    "### Travis CI\n",
    "\n",
    "Go to [https://travis-ci.org/](https://travis-ci.org/), if you do not have an account yet you should see the following landing page:\n",
    "\n",
    "<img src='https://github.com/trallard/ReproduciblePython/blob/master/assets/travis1.PNG?raw=true' width=80%>\n",
    "\n",
    "Click on the green *Sign up* button and login using your GitHub username and password\n",
    "\n",
    "\n",
    "<img src='https://github.com/trallard/ReproduciblePython/blob/master/assets/travis2.PNG?raw=true'>"
   ]
  },
  {
   "cell_type": "markdown",
   "metadata": {},
   "source": [
    "# Installation of Docker\n",
    "\n",
    "On some laptops, installing docker may be tricky so **don't worry if you don't manage to install docker on your computer before the workshop!**.\n",
    "\n",
    "## Docker installation\n",
    "\n",
    "Follow instructions depending on your Operating system:\n",
    "\n",
    "- <a href=\"https://docs.docker.com/engine/installation/windows/\">Windows</a>\n",
    "- <a href=\"https://docs.docker.com/engine/installation/mac/\">Mac OS X</a>\n",
    "- <a href=\"https://docs.docker.com/engine/installation/linux/\">Linux</a>\n",
    "\n",
    "## What’s Docker Toolbox? Do I need it?\n",
    "\n",
    "If your OS does not meet the requirements of Docker for Windows or Docker for Mac you will need to install <a href=\"https://www.virtualbox.org/\">VirtualBox</a> and <a href=\"https://www.docker.com/products/docker-toolbox\">Docker Toolbox</a>."
   ]
  },
  {
   "cell_type": "markdown",
   "metadata": {},
   "source": [
    "## 📊 Getting started with python-eth-wallet\n",
    "We will be using a set of commands that can be run inside the notebook"
   ]
  },
  {
   "cell_type": "code",
   "execution_count": 21,
   "metadata": {},
   "outputs": [],
   "source": [
    "from eth_wallet import utils"
   ]
  },
  {
   "cell_type": "code",
   "execution_count": 23,
   "metadata": {},
   "outputs": [
    {
     "data": {
      "text/plain": [
       "<module 'os' from '/srv/conda/envs/notebook/lib/python3.7/os.py'>"
      ]
     },
     "execution_count": 23,
     "metadata": {},
     "output_type": "execute_result"
    }
   ],
   "source": [
    "utils.os"
   ]
  },
  {
   "cell_type": "code",
   "execution_count": 4,
   "metadata": {},
   "outputs": [
    {
     "name": "stdout",
     "output_type": "stream",
     "text": [
      "eth-abi            1.3.0              \r\n",
      "eth-account        0.3.0              \r\n",
      "eth-hash           0.2.0              \r\n",
      "eth-keyfile        0.5.1              \r\n",
      "eth-keys           0.2.2              \r\n",
      "eth-rlp            0.1.2              \r\n",
      "eth-typing         2.1.0              \r\n",
      "eth-utils          1.5.2              \r\n",
      "eth-wallet         1.1.1.dev2+g1ae46ec\r\n",
      "prometheus-client  0.6.0              \r\n"
     ]
    }
   ],
   "source": [
    "!pip list |grep eth"
   ]
  },
  {
   "cell_type": "code",
   "execution_count": 56,
   "metadata": {},
   "outputs": [
    {
     "name": "stdout",
     "output_type": "stream",
     "text": [
      "usage: setup.py [global_opts] cmd1 [cmd1_opts] [cmd2 [cmd2_opts] ...]\r\n",
      "   or: setup.py --help [cmd1 cmd2 ...]\r\n",
      "   or: setup.py --help-commands\r\n",
      "   or: setup.py cmd --help\r\n",
      "\r\n",
      "error: no commands supplied\r\n"
     ]
    }
   ],
   "source": [
    "#!python setup.py"
   ]
  },
  {
   "cell_type": "code",
   "execution_count": 53,
   "metadata": {},
   "outputs": [
    {
     "name": "stdout",
     "output_type": "stream",
     "text": [
      "CHANGELOG.md  \u001b[0m\u001b[01;34meth_wallet\u001b[0m/              README.md          setup.cfg  \u001b[01;34mtests\u001b[0m/\r\n",
      "\u001b[01;34mdoc\u001b[0m/          python-eth-wallet.ipynb  release-conf.yaml  setup.py\r\n"
     ]
    }
   ],
   "source": [
    "ls"
   ]
  },
  {
   "cell_type": "markdown",
   "metadata": {},
   "source": [
    "# Create the Wallet"
   ]
  },
  {
   "cell_type": "code",
   "execution_count": 7,
   "metadata": {},
   "outputs": [],
   "source": [
    "from eth_wallet import wallet"
   ]
  },
  {
   "cell_type": "code",
   "execution_count": 8,
   "metadata": {},
   "outputs": [
    {
     "data": {
      "text/plain": [
       "<eth_account.signers.local.LocalAccount at 0x7fa26c0889b0>"
      ]
     },
     "execution_count": 8,
     "metadata": {},
     "output_type": "execute_result"
    }
   ],
   "source": [
    "#new-wallet\n",
    "wallet.Account.create()"
   ]
  },
  {
   "cell_type": "code",
   "execution_count": 12,
   "metadata": {},
   "outputs": [
    {
     "data": {
      "text/plain": [
       "<function eth_account.account.Account.signHash(self, message_hash, private_key)>"
      ]
     },
     "execution_count": 12,
     "metadata": {},
     "output_type": "execute_result"
    }
   ],
   "source": [
    "wallet.Account.signHash"
   ]
  },
  {
   "cell_type": "code",
   "execution_count": 14,
   "metadata": {},
   "outputs": [
    {
     "data": {
      "text/plain": [
       "<function eth_wallet.wallet.Wallet.get_address(self)>"
      ]
     },
     "execution_count": 14,
     "metadata": {},
     "output_type": "execute_result"
    }
   ],
   "source": [
    "wallet.Wallet.get_address"
   ]
  },
  {
   "cell_type": "code",
   "execution_count": 15,
   "metadata": {},
   "outputs": [
    {
     "data": {
      "text/plain": [
       "<function eth_wallet.wallet.Wallet.get_account(self)>"
      ]
     },
     "execution_count": 15,
     "metadata": {},
     "output_type": "execute_result"
    }
   ],
   "source": [
    "wallet.Wallet.get_account"
   ]
  },
  {
   "cell_type": "code",
   "execution_count": 17,
   "metadata": {},
   "outputs": [
    {
     "data": {
      "text/plain": [
       "<function eth_wallet.wallet.Wallet.get_mnemonic(self)>"
      ]
     },
     "execution_count": 17,
     "metadata": {},
     "output_type": "execute_result"
    }
   ],
   "source": [
    "wallet.Wallet.get_mnemonic"
   ]
  },
  {
   "cell_type": "code",
   "execution_count": 18,
   "metadata": {},
   "outputs": [
    {
     "data": {
      "text/plain": [
       "<function eth_wallet.wallet.Wallet.get_public_key(self)>"
      ]
     },
     "execution_count": 18,
     "metadata": {},
     "output_type": "execute_result"
    }
   ],
   "source": [
    "wallet.Wallet.get_public_key"
   ]
  },
  {
   "cell_type": "code",
   "execution_count": 19,
   "metadata": {},
   "outputs": [
    {
     "data": {
      "text/plain": [
       "<function eth_wallet.wallet.Wallet.get_private_key(self)>"
      ]
     },
     "execution_count": 19,
     "metadata": {},
     "output_type": "execute_result"
    }
   ],
   "source": [
    "wallet.Wallet.get_private_key"
   ]
  },
  {
   "cell_type": "code",
   "execution_count": null,
   "metadata": {},
   "outputs": [],
   "source": [
    "#eth-wallet get-wallet   "
   ]
  },
  {
   "cell_type": "code",
   "execution_count": 24,
   "metadata": {},
   "outputs": [
    {
     "data": {
      "text/plain": [
       "<function eth_wallet.wallet.Wallet.set_account(self, private_key)>"
      ]
     },
     "execution_count": 24,
     "metadata": {},
     "output_type": "execute_result"
    }
   ],
   "source": [
    "wallet.Wallet.set_account"
   ]
  },
  {
   "cell_type": "markdown",
   "metadata": {},
   "source": [
    "# Check balance"
   ]
  },
  {
   "cell_type": "code",
   "execution_count": 35,
   "metadata": {},
   "outputs": [
    {
     "data": {
      "text/plain": [
       "<function eth_wallet.wallet.Wallet.get_balance(self, address)>"
      ]
     },
     "execution_count": 35,
     "metadata": {},
     "output_type": "execute_result"
    }
   ],
   "source": [
    "# eth-wallet get-balance\n",
    "wallet.Wallet.get_balance"
   ]
  },
  {
   "cell_type": "code",
   "execution_count": null,
   "metadata": {},
   "outputs": [],
   "source": [
    "# eth-wallet get-balance --token AMIS\n",
    "wallet.Wallet.get_balance --token AMIS"
   ]
  },
  {
   "cell_type": "markdown",
   "metadata": {},
   "source": [
    "# Add Token"
   ]
  },
  {
   "cell_type": "code",
   "execution_count": null,
   "metadata": {},
   "outputs": [],
   "source": [
    "# eth-wallet add-token"
   ]
  },
  {
   "cell_type": "code",
   "execution_count": null,
   "metadata": {},
   "outputs": [],
   "source": [
    "wallet.json."
   ]
  },
  {
   "cell_type": "markdown",
   "metadata": {},
   "source": [
    "# Send Transaction"
   ]
  },
  {
   "cell_type": "code",
   "execution_count": 37,
   "metadata": {},
   "outputs": [],
   "source": [
    "from eth_wallet import transaction"
   ]
  },
  {
   "cell_type": "code",
   "execution_count": 39,
   "metadata": {},
   "outputs": [
    {
     "data": {
      "text/plain": [
       "<function eth_utils.conversions.to_hex(primitive: Union[bytes, int, bool] = None, hexstr: <function NewType.<locals>.new_type at 0x7fa26f4ad9d8> = None, text: str = None) -> <function NewType.<locals>.new_type at 0x7fa26f4ad9d8>>"
      ]
     },
     "execution_count": 39,
     "metadata": {},
     "output_type": "execute_result"
    }
   ],
   "source": [
    "transaction.to_hex"
   ]
  },
  {
   "cell_type": "code",
   "execution_count": 41,
   "metadata": {},
   "outputs": [
    {
     "data": {
      "text/plain": [
       "<function eth_wallet.transaction.Transaction.send_transaction(self, transaction)>"
      ]
     },
     "execution_count": 41,
     "metadata": {},
     "output_type": "execute_result"
    }
   ],
   "source": [
    "transaction.Transaction.send_transaction"
   ]
  },
  {
   "cell_type": "code",
   "execution_count": null,
   "metadata": {},
   "outputs": [],
   "source": [
    "# send-transaction --token AMIS\n",
    "transaction.Transaction.send_transaction --token AMIS"
   ]
  },
  {
   "cell_type": "markdown",
   "metadata": {},
   "source": [
    "# Wallet Utils"
   ]
  },
  {
   "cell_type": "code",
   "execution_count": 44,
   "metadata": {},
   "outputs": [],
   "source": [
    "from  eth_wallet import utils"
   ]
  },
  {
   "cell_type": "code",
   "execution_count": 45,
   "metadata": {},
   "outputs": [
    {
     "data": {
      "text/plain": [
       "<module 'os' from '/srv/conda/envs/notebook/lib/python3.7/os.py'>"
      ]
     },
     "execution_count": 45,
     "metadata": {},
     "output_type": "execute_result"
    }
   ],
   "source": [
    "# eth-wallet network\n",
    "utils.os"
   ]
  },
  {
   "cell_type": "code",
   "execution_count": 46,
   "metadata": {},
   "outputs": [
    {
     "data": {
      "text/plain": [
       "<function eth_wallet.utils.get_abi_json()>"
      ]
     },
     "execution_count": 46,
     "metadata": {},
     "output_type": "execute_result"
    }
   ],
   "source": [
    "utils.get_abi_json"
   ]
  },
  {
   "cell_type": "code",
   "execution_count": null,
   "metadata": {},
   "outputs": [],
   "source": [
    "eth-wallet restore-wallet"
   ]
  },
  {
   "cell_type": "code",
   "execution_count": null,
   "metadata": {},
   "outputs": [],
   "source": [
    "eth-wallet reveal-seed "
   ]
  },
  {
   "cell_type": "code",
   "execution_count": 49,
   "metadata": {},
   "outputs": [
    {
     "ename": "SyntaxError",
     "evalue": "invalid syntax (<ipython-input-49-b7f43bb3256d>, line 1)",
     "output_type": "error",
     "traceback": [
      "\u001b[0;36m  File \u001b[0;32m\"<ipython-input-49-b7f43bb3256d>\"\u001b[0;36m, line \u001b[0;32m1\u001b[0m\n\u001b[0;31m    eth-wallet list-tokens\u001b[0m\n\u001b[0m                  ^\u001b[0m\n\u001b[0;31mSyntaxError\u001b[0m\u001b[0;31m:\u001b[0m invalid syntax\n"
     ]
    }
   ],
   "source": [
    "eth-wallet list-tokens"
   ]
  },
  {
   "cell_type": "code",
   "execution_count": 48,
   "metadata": {},
   "outputs": [
    {
     "data": {
      "text/plain": [
       "<function eth_wallet.utils.public_key_to_keccak256(public_key_bytes: bytes) -> bytes>"
      ]
     },
     "execution_count": 48,
     "metadata": {},
     "output_type": "execute_result"
    }
   ],
   "source": [
    "utils.public_key_to_keccak256"
   ]
  },
  {
   "cell_type": "markdown",
   "metadata": {},
   "source": [
    "## Additional notes\n",
    "\n",
    "  We will teach Python using the IPython notebook, a programming environment\n",
    "      that runs in a web browser. For this to work you will need a reasonably\n",
    "      up-to-date browser. The current versions of the Chrome, Safari and\n",
    "      Firefox browsers are all\n",
    "      <a href=\"http://ipython.org/ipython-doc/2/install/install.html#browser-compatibility\">supported</a>\n",
    "      (some older browsers, including Internet Explorer version 9\n",
    "      and below, are not).\n",
    "      \n",
    "      \n",
    "The cell below applies the styling to the notebook, you can ignore it"
   ]
  },
  {
   "cell_type": "code",
   "execution_count": 1,
   "metadata": {
    "deletable": false,
    "editable": false,
    "hide_input": true
   },
   "outputs": [
    {
     "data": {
      "text/html": [
       "<link href=\"https://fonts.googleapis.com/css?family=Didact+Gothic|Dosis:400,500,700\" rel=\"stylesheet\"><style>\n",
       "@font-face {\n",
       "  font-family: \"Computer Modern\";\n",
       "  src: url('http://mirrors.ctan.org/fonts/cm-unicode/fonts/otf/cmunss.otf');\n",
       "}\n",
       "/* div.cell{\n",
       "width:800px;\n",
       "margin-left:16% !important;\n",
       "margin-right:auto;\n",
       "} */\n",
       "h1 {\n",
       "  font-family: 'Dosis', \"Helvetica Neue\", Arial, sans-serif;\n",
       "  color: #0B132B;\n",
       "}\n",
       "h2 {\n",
       "  font-family: 'Dosis', sans-serif;\n",
       "  color: #1C2541;\n",
       "}\n",
       "h3{\n",
       "  font-family: 'Dosis', sans-serif;\n",
       "  margin-top:12px;\n",
       "  margin-bottom: 3px;\n",
       "  color: #40a8a6;\n",
       "}\n",
       "h4{\n",
       "  font-family: 'Dosis', sans-serif;\n",
       "  color: #40a8a6;\n",
       "}\n",
       "h5 {\n",
       "  font-family: 'Dosis', sans-serif;\n",
       "  color: #40a8a6;\n",
       "}\n",
       "div.text_cell_render{\n",
       "  font-family: 'Didact Gothic',Computer Modern, \"Helvetica Neue\", Arial, Helvetica,\n",
       "  Geneva, sans-serif;\n",
       "  line-height: 130%;\n",
       "  font-size: 110%;\n",
       "  /* width:600px; */\n",
       "  /* margin-left:auto;\n",
       "  margin-right:auto; */\n",
       "}\n",
       "\n",
       ".text_cell_render h1 {\n",
       "  font-weight: 200;\n",
       "  font-size: 30pt;\n",
       "  /* font-size: 50pt */\n",
       "  line-height: 100%;\n",
       "  color:#0B132B;\n",
       "  margin-bottom: 0.5em;\n",
       "  margin-top: 0.5em;\n",
       "  display: block;\n",
       "}\n",
       "\n",
       ".text_cell_render h2{\n",
       "  font-weight: 500;\n",
       "}\n",
       "\n",
       ".text_cell_render h3{\n",
       "  font-weight: 500;\n",
       "}\n",
       "\n",
       "\n",
       ".warning{\n",
       "  color: rgb( 240, 20, 20 )\n",
       "}\n",
       "\n",
       "div.warn {\n",
       "  background-color: #FF5A5F;\n",
       "  border-color: #FF5A5F;\n",
       "  border-left: 5px solid #C81D25;\n",
       "  padding: 0.5em;\n",
       "\n",
       "  color: #fff;\n",
       "  opacity: 0.8;\n",
       "}\n",
       "\n",
       "div.info {\n",
       "  background-color: #087E8B;\n",
       "  border-color: #087E8B;\n",
       "  border-left: 5px solid #0B3954;\n",
       "  padding: 0.5em;\n",
       "  color: #fff;\n",
       "  opacity: 0.8;\n",
       "}\n",
       "\n",
       "</style>\n",
       "<script>\n",
       "MathJax.Hub.Config({\n",
       "  TeX: {\n",
       "    extensions: [\"AMSmath.js\"]\n",
       "    },\n",
       "    tex2jax: {\n",
       "      inlineMath: [ ['$','$'], [\"\\\\(\",\"\\\\)\"] ],\n",
       "      displayMath: [ ['$$','$$'], [\"\\\\[\",\"\\\\]\"] ]\n",
       "      },\n",
       "      displayAlign: 'center', // Change this to 'center' to center equations.\n",
       "      \"HTML-CSS\": {\n",
       "        styles: {'.MathJax_Display': {\"margin\": 4}}\n",
       "      }\n",
       "      });\n",
       "      </script>\n"
      ],
      "text/plain": [
       "<IPython.core.display.HTML object>"
      ]
     },
     "execution_count": 1,
     "metadata": {},
     "output_type": "execute_result"
    }
   ],
   "source": [
    "from IPython.core.display import HTML\n",
    "\n",
    "\n",
    "def css_styling():\n",
    "    styles = open(\"styles/custom.css\", \"r\").read()\n",
    "    return HTML(styles)\n",
    "css_styling()"
   ]
  }
 ],
 "metadata": {
  "kernelspec": {
   "display_name": "Python 3",
   "language": "python",
   "name": "python3"
  },
  "language_info": {
   "codemirror_mode": {
    "name": "ipython",
    "version": 3
   },
   "file_extension": ".py",
   "mimetype": "text/x-python",
   "name": "python",
   "nbconvert_exporter": "python",
   "pygments_lexer": "ipython3",
   "version": "3.7.3"
  }
 },
 "nbformat": 4,
 "nbformat_minor": 2
}
